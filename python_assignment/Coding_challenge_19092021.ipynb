{
 "cells": [
  {
   "cell_type": "code",
   "execution_count": 5,
   "id": "1080f94a",
   "metadata": {},
   "outputs": [],
   "source": [
    "d = {\"ineuron\":{\"a\" :23, \"b\": 34, \"c\":56}, \"course\":{\"d\":45, \"e\":12, \"f\":(1,2,30)}, \"xyz\":99, \"a\":[1,8,888], \"q\": (5,8,9,877878), \"b\": True, \"c\":{4,5,6}, \"g\":2 + 3j, \"v\":3333333333333333333.33}"
   ]
  },
  {
   "cell_type": "code",
   "execution_count": 6,
   "id": "c946a68f",
   "metadata": {},
   "outputs": [],
   "source": [
    "#Loop to get list of all values in a new list. \n",
    "\n",
    "values = []\n",
    "\n",
    "for i in d.keys():\n",
    "    if type(d[i]) == dict: #dict is handled separately since it has a key-value pair and max doesn't work with dict\n",
    "        for j in d[i].values():\n",
    "            values.append(j)\n",
    "    else:\n",
    "        values.append(d[i])"
   ]
  },
  {
   "cell_type": "code",
   "execution_count": 8,
   "id": "588d4918",
   "metadata": {},
   "outputs": [],
   "source": [
    "#Get the max value in new list excluding complex, boolean, string type variables\n",
    "\n",
    "list_of_values = []\n",
    "\n",
    "for i in values:\n",
    "    if type(i) == int or type(i) == float:\n",
    "        list_of_values.append(i)\n",
    "    else:\n",
    "        try:\n",
    "            list_of_values.append(max(i))\n",
    "        except:\n",
    "            continue  "
   ]
  },
  {
   "cell_type": "code",
   "execution_count": 9,
   "id": "792c4b2b",
   "metadata": {},
   "outputs": [
    {
     "data": {
      "text/plain": [
       "3.3333333333333335e+18"
      ]
     },
     "execution_count": 9,
     "metadata": {},
     "output_type": "execute_result"
    }
   ],
   "source": [
    "#get the maximum value\n",
    "max(list_of_values)"
   ]
  }
 ],
 "metadata": {
  "kernelspec": {
   "display_name": "Python 3",
   "language": "python",
   "name": "python3"
  },
  "language_info": {
   "codemirror_mode": {
    "name": "ipython",
    "version": 3
   },
   "file_extension": ".py",
   "mimetype": "text/x-python",
   "name": "python",
   "nbconvert_exporter": "python",
   "pygments_lexer": "ipython3",
   "version": "3.8.8"
  }
 },
 "nbformat": 4,
 "nbformat_minor": 5
}
