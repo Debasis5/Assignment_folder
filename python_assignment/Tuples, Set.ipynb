{
 "cells": [
  {
   "cell_type": "markdown",
   "id": "de2aff74",
   "metadata": {},
   "source": [
    "# 1.1 Write a Python Program to implement your own myreduce() function which works exactly like Python's built-in function reduce()"
   ]
  },
  {
   "cell_type": "code",
   "execution_count": 1,
   "id": "b98085df",
   "metadata": {},
   "outputs": [],
   "source": [
    "#sample list\n",
    "test_ls = [1,2,3,4]"
   ]
  },
  {
   "cell_type": "code",
   "execution_count": 2,
   "id": "7ba88099",
   "metadata": {},
   "outputs": [],
   "source": [
    "# User defined function for reduce\n",
    "\n",
    "def udf_reduce(func, ls):\n",
    "    result = ls[0]    \n",
    "    for i in range(1,len(ls)):\n",
    "        result = func(result,ls[i])\n",
    "    return result\n",
    "    "
   ]
  },
  {
   "cell_type": "code",
   "execution_count": 3,
   "id": "fc597d46",
   "metadata": {},
   "outputs": [
    {
     "data": {
      "text/plain": [
       "10"
      ]
     },
     "execution_count": 3,
     "metadata": {},
     "output_type": "execute_result"
    }
   ],
   "source": [
    "#test function\n",
    "udf_reduce(lambda x,y: x + y , test_ls)"
   ]
  },
  {
   "cell_type": "code",
   "execution_count": 4,
   "id": "cedb584e",
   "metadata": {},
   "outputs": [
    {
     "data": {
      "text/plain": [
       "10"
      ]
     },
     "execution_count": 4,
     "metadata": {},
     "output_type": "execute_result"
    }
   ],
   "source": [
    "#Check with reduce output \n",
    "from functools import reduce\n",
    "\n",
    "reduce(lambda x,y: x + y , test_ls)"
   ]
  },
  {
   "cell_type": "markdown",
   "id": "1d75d28f",
   "metadata": {},
   "source": [
    "# 1.2 Write a Python program to implement your own myfilter() function which works exactly like Python's built-in function filter()"
   ]
  },
  {
   "cell_type": "code",
   "execution_count": 5,
   "id": "f6301c00",
   "metadata": {},
   "outputs": [],
   "source": [
    "l = [4,5,6,7,8,9,2]"
   ]
  },
  {
   "cell_type": "code",
   "execution_count": 6,
   "id": "47bf7d0a",
   "metadata": {},
   "outputs": [
    {
     "data": {
      "text/plain": [
       "[4, 6, 8, 2]"
      ]
     },
     "execution_count": 6,
     "metadata": {},
     "output_type": "execute_result"
    }
   ],
   "source": [
    "list(filter(lambda x:x%2 ==0, l))"
   ]
  },
  {
   "cell_type": "code",
   "execution_count": 7,
   "id": "b90f9471",
   "metadata": {},
   "outputs": [],
   "source": [
    "#User defined function for filter function\n",
    "def udf_filter(func, ls):\n",
    "    new_ls = []\n",
    "    for i in ls:\n",
    "        if func(i) == True:\n",
    "            new_ls.append(i)\n",
    "    return new_ls\n",
    "            "
   ]
  },
  {
   "cell_type": "code",
   "execution_count": 8,
   "id": "8978f719",
   "metadata": {},
   "outputs": [
    {
     "data": {
      "text/plain": [
       "[4, 6, 8, 2]"
      ]
     },
     "execution_count": 8,
     "metadata": {},
     "output_type": "execute_result"
    }
   ],
   "source": [
    "#test function\n",
    "udf_filter(lambda x:x%2 == 0, l)"
   ]
  },
  {
   "cell_type": "code",
   "execution_count": 16,
   "id": "7d259b35",
   "metadata": {},
   "outputs": [
    {
     "data": {
      "text/plain": [
       "[4, 6, 8, 2]"
      ]
     },
     "execution_count": 16,
     "metadata": {},
     "output_type": "execute_result"
    }
   ],
   "source": [
    "#Check with filter function output\n",
    "list(filter(lambda x:x%2 == 0, l))"
   ]
  },
  {
   "cell_type": "markdown",
   "id": "c450f52b",
   "metadata": {},
   "source": [
    "# 2. Implement List comprehensions to produce the following lists.\n",
    "['x', 'xx', 'xxx', 'xxxx', 'y', 'yy', 'yyy', 'yyyy', 'z', 'zz', 'zzz', 'zzzz']"
   ]
  },
  {
   "cell_type": "code",
   "execution_count": 56,
   "id": "7ddf6a1b",
   "metadata": {},
   "outputs": [
    {
     "data": {
      "text/plain": [
       "['x', 'xx', 'xxx', 'xxxx', 'y', 'yy', 'yyy', 'yyyy', 'z', 'zz', 'zzz', 'zzzz']"
      ]
     },
     "execution_count": 56,
     "metadata": {},
     "output_type": "execute_result"
    }
   ],
   "source": [
    "test = ['x', 'y', 'z']\n",
    "\n",
    "[j * i for i in test for j in range(1,5)]"
   ]
  },
  {
   "cell_type": "markdown",
   "id": "504d2521",
   "metadata": {},
   "source": [
    "# 2. Implement List comprehensions to produce the following lists.\n",
    "['x', 'y', 'z', 'xx', 'yy', 'zz', 'xxx', 'yyy', 'zzz', 'xxxx', 'yyyy', 'zzzz']"
   ]
  },
  {
   "cell_type": "code",
   "execution_count": 57,
   "id": "1f2c90e2",
   "metadata": {},
   "outputs": [
    {
     "data": {
      "text/plain": [
       "['x', 'y', 'z', 'xx', 'yy', 'zz', 'xxx', 'yyy', 'zzz', 'xxxx', 'yyyy', 'zzzz']"
      ]
     },
     "execution_count": 57,
     "metadata": {},
     "output_type": "execute_result"
    }
   ],
   "source": [
    "test = ['x', 'y', 'z']\n",
    "\n",
    "[i * j for i in range(1,5) for j in test]"
   ]
  },
  {
   "cell_type": "markdown",
   "id": "ed7fcf7c",
   "metadata": {},
   "source": [
    "# 2. Implement List comprehensions to produce the following lists.\n",
    "[[2], [3], [4], [3], [4], [5], [4], [5], [6]]"
   ]
  },
  {
   "cell_type": "code",
   "execution_count": 79,
   "id": "3767506c",
   "metadata": {},
   "outputs": [
    {
     "data": {
      "text/plain": [
       "[[2], [3], [4], [3], [4], [5], [4], [5], [6]]"
      ]
     },
     "execution_count": 79,
     "metadata": {},
     "output_type": "execute_result"
    }
   ],
   "source": [
    "[[j + i] for i in range(2,5) for j in range(0,3)]"
   ]
  },
  {
   "cell_type": "markdown",
   "id": "421ac1ab",
   "metadata": {},
   "source": [
    "# 2. Implement List comprehensions to produce the following lists.\n",
    "[[2, 3, 4, 5], [3, 4, 5, 6],[4, 5, 6, 7], [5, 6, 7, 8]]"
   ]
  },
  {
   "cell_type": "code",
   "execution_count": 123,
   "id": "e616cb86",
   "metadata": {},
   "outputs": [
    {
     "data": {
      "text/plain": [
       "[[2, 3, 4, 5], [3, 4, 5, 6], [4, 5, 6, 7], [5, 6, 7, 8]]"
      ]
     },
     "execution_count": 123,
     "metadata": {},
     "output_type": "execute_result"
    }
   ],
   "source": [
    "[ [i+j for i in range(2,6)] for j in range(0,4)]"
   ]
  },
  {
   "cell_type": "markdown",
   "id": "b91c7db8",
   "metadata": {},
   "source": [
    "# 2. Implement List comprehensions to produce the following lists.\n",
    "[(1, 1), (2, 1), (3, 1), (1, 2), (2, 2), (3, 2), (1, 3), (2, 3), (3, 3)]"
   ]
  },
  {
   "cell_type": "code",
   "execution_count": 43,
   "id": "5d18b0bd",
   "metadata": {},
   "outputs": [
    {
     "data": {
      "text/plain": [
       "[(1, 1), (2, 1), (3, 1), (1, 2), (2, 2), (3, 2), (1, 3), (2, 3), (3, 3)]"
      ]
     },
     "execution_count": 43,
     "metadata": {},
     "output_type": "execute_result"
    }
   ],
   "source": [
    "[(j, i) for i in range(1,4)  for j in range(1,4)]"
   ]
  }
 ],
 "metadata": {
  "kernelspec": {
   "display_name": "Python 3",
   "language": "python",
   "name": "python3"
  },
  "language_info": {
   "codemirror_mode": {
    "name": "ipython",
    "version": 3
   },
   "file_extension": ".py",
   "mimetype": "text/x-python",
   "name": "python",
   "nbconvert_exporter": "python",
   "pygments_lexer": "ipython3",
   "version": "3.8.8"
  }
 },
 "nbformat": 4,
 "nbformat_minor": 5
}
