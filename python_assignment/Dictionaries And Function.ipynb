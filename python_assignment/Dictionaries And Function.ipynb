{
 "cells": [
  {
   "cell_type": "markdown",
   "id": "6de078ae",
   "metadata": {},
   "source": [
    "# 1.1 Write a Python Program(with class concepts) to find the area of the triangle using the below formula.\n",
    "\n",
    "###                                                     area = (s*(s-a)*(s-b)*(s-c)) ** 0.5\n",
    "\n",
    "Function to take the length of the sides of triangle from user should be defined in the parent class and function to calculate the area should be defined in subclass."
   ]
  },
  {
   "cell_type": "code",
   "execution_count": 18,
   "id": "94471068",
   "metadata": {},
   "outputs": [],
   "source": [
    "#Parent class\n",
    "class triangle:\n",
    "    def __init__(self, a, b, c):\n",
    "        self.a = a\n",
    "        self.b = b\n",
    "        self.c = c\n",
    "               \n",
    "#sub class\n",
    "class area_of_triangle(triangle):\n",
    "     def __init__(self, *args):\n",
    "            super().__init__(*args)\n",
    "    \n",
    "     def area(self):\n",
    "        s = ((self.a + self.b + self.c)/2)\n",
    "        return ((s * (s - self.a) * (s - self.b) * (s - self.c)) ** 0.5)\n",
    "     "
   ]
  },
  {
   "cell_type": "code",
   "execution_count": 16,
   "id": "4fd4f692",
   "metadata": {},
   "outputs": [],
   "source": [
    "a = area_of_triangle(5,6,8)"
   ]
  },
  {
   "cell_type": "code",
   "execution_count": 17,
   "id": "f51a19c1",
   "metadata": {},
   "outputs": [
    {
     "data": {
      "text/plain": [
       "14.981238266578634"
      ]
     },
     "execution_count": 17,
     "metadata": {},
     "output_type": "execute_result"
    }
   ],
   "source": [
    "a.area()"
   ]
  },
  {
   "cell_type": "markdown",
   "id": "57f725ec",
   "metadata": {},
   "source": [
    "# 1.2 Write a function filter_long_words() that takes a list of words and an integer n and returns the list of words that are longer than n."
   ]
  },
  {
   "cell_type": "code",
   "execution_count": 19,
   "id": "98e5631d",
   "metadata": {},
   "outputs": [],
   "source": [
    "ls = [\"Debasis\", \"Bangalore\", \"an\", \"a\", \"dye\"]\n",
    "\n",
    "length = 2"
   ]
  },
  {
   "cell_type": "code",
   "execution_count": 29,
   "id": "7a679d21",
   "metadata": {},
   "outputs": [],
   "source": [
    "#Required Function\n",
    "def filter_long_words(list_of_words, length):\n",
    "    return list(filter(lambda x:len(x) > length, list_of_words))"
   ]
  },
  {
   "cell_type": "code",
   "execution_count": 30,
   "id": "38a24440",
   "metadata": {},
   "outputs": [],
   "source": [
    "result = filter_long_words(ls, length)"
   ]
  },
  {
   "cell_type": "code",
   "execution_count": 31,
   "id": "dee50812",
   "metadata": {},
   "outputs": [
    {
     "data": {
      "text/plain": [
       "['Debasis', 'Bangalore', 'dye']"
      ]
     },
     "execution_count": 31,
     "metadata": {},
     "output_type": "execute_result"
    }
   ],
   "source": [
    "result"
   ]
  },
  {
   "cell_type": "code",
   "execution_count": 32,
   "id": "61c67aa9",
   "metadata": {},
   "outputs": [],
   "source": [
    "#Another Function. Keeping just for reference\n",
    "def filter_long_words1(list_of_words, length):\n",
    "    return [i for i in list_of_words if len(i) > length]"
   ]
  },
  {
   "cell_type": "code",
   "execution_count": 33,
   "id": "e5f0650a",
   "metadata": {},
   "outputs": [],
   "source": [
    "result1 = filter_long_words1(ls, length)"
   ]
  },
  {
   "cell_type": "code",
   "execution_count": 35,
   "id": "7ba49163",
   "metadata": {},
   "outputs": [
    {
     "data": {
      "text/plain": [
       "['Debasis', 'Bangalore', 'dye']"
      ]
     },
     "execution_count": 35,
     "metadata": {},
     "output_type": "execute_result"
    }
   ],
   "source": [
    "result1"
   ]
  },
  {
   "cell_type": "markdown",
   "id": "d3b67fc0",
   "metadata": {},
   "source": [
    "# 2.1 Write a Python program using function concept that maps list of words into a list of integers representing the lengths of the corresponding words.\n",
    "\n",
    "Hint: If a list [ ab,cde,erty] is passed on to the python function output should come as [2,3,4]\n",
    "\n",
    "Here 2,3 and 4 are the lengths of the words in the list."
   ]
  },
  {
   "cell_type": "code",
   "execution_count": 36,
   "id": "a94776f1",
   "metadata": {},
   "outputs": [],
   "source": [
    "ls = [\"Debasis\", \"Bangalore\", \"an\", \"a\", \"dye\"] "
   ]
  },
  {
   "cell_type": "code",
   "execution_count": 37,
   "id": "39f54dad",
   "metadata": {},
   "outputs": [
    {
     "data": {
      "text/plain": [
       "[7, 9, 2, 1, 3]"
      ]
     },
     "execution_count": 37,
     "metadata": {},
     "output_type": "execute_result"
    }
   ],
   "source": [
    "#Using list comprehension\n",
    "[len(i) for i in ls]"
   ]
  },
  {
   "cell_type": "code",
   "execution_count": 39,
   "id": "e7880ae0",
   "metadata": {},
   "outputs": [
    {
     "data": {
      "text/plain": [
       "[7, 9, 2, 1, 3]"
      ]
     },
     "execution_count": 39,
     "metadata": {},
     "output_type": "execute_result"
    }
   ],
   "source": [
    "#Using map function\n",
    "list(map(lambda x: len(x), ls))"
   ]
  },
  {
   "cell_type": "markdown",
   "id": "9ce9c94f",
   "metadata": {},
   "source": [
    "# 2.2 Write a Python function which takes a character (i.e. a string of length 1) and returns True if it is a vowel, False otherwise."
   ]
  },
  {
   "cell_type": "code",
   "execution_count": 43,
   "id": "08610b82",
   "metadata": {},
   "outputs": [],
   "source": [
    "#Function to identify a vowel\n",
    "def check_vowel(a):\n",
    "    vowels = [\"a\", \"e\", \"i\", \"o\", \"u\"]\n",
    "    return a in vowels"
   ]
  },
  {
   "cell_type": "code",
   "execution_count": 46,
   "id": "b1bda068",
   "metadata": {},
   "outputs": [
    {
     "name": "stdout",
     "output_type": "stream",
     "text": [
      "Enter a charcter (i.e. a string of length 1): a\n"
     ]
    },
    {
     "data": {
      "text/plain": [
       "True"
      ]
     },
     "execution_count": 46,
     "metadata": {},
     "output_type": "execute_result"
    }
   ],
   "source": [
    "#Enter a character\n",
    "string = input(\"Enter a charcter (i.e. a string of length 1): \")\n",
    "\n",
    "#Check if it is a vowel\n",
    "check_vowel(string)"
   ]
  }
 ],
 "metadata": {
  "kernelspec": {
   "display_name": "Python 3",
   "language": "python",
   "name": "python3"
  },
  "language_info": {
   "codemirror_mode": {
    "name": "ipython",
    "version": 3
   },
   "file_extension": ".py",
   "mimetype": "text/x-python",
   "name": "python",
   "nbconvert_exporter": "python",
   "pygments_lexer": "ipython3",
   "version": "3.8.8"
  }
 },
 "nbformat": 4,
 "nbformat_minor": 5
}
