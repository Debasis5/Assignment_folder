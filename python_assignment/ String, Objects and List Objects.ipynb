{
 "cells": [
  {
   "cell_type": "markdown",
   "id": "6bd24cf3",
   "metadata": {},
   "source": [
    "# Code1"
   ]
  },
  {
   "cell_type": "markdown",
   "id": "a773ff1a",
   "metadata": {},
   "source": [
    "Create the below pattern using nested for loop in Python."
   ]
  },
  {
   "cell_type": "code",
   "execution_count": 22,
   "id": "dc5a314f",
   "metadata": {},
   "outputs": [
    {
     "name": "stdout",
     "output_type": "stream",
     "text": [
      "Number of even rows of star pattern needs to be printed:10\n",
      "*\n",
      "**\n",
      "***\n",
      "****\n",
      "*****\n",
      "****\n",
      "***\n",
      "**\n",
      "*\n",
      "\n"
     ]
    }
   ],
   "source": [
    "#Ask for an input for number of rows to be printed\n",
    "number_of_rows = int(input(\"Number of even rows of star pattern needs to be printed:\"))\n",
    "\n",
    "#create a decrement operator for the decreasing '*' after five. This will be used to print\n",
    "decrement_variable = int(number_of_rows/2)\n",
    "\n",
    "#Loop for printing the pattern\n",
    "for i in range(1, number_of_rows + 1):\n",
    "    if i >= decrement_variable:\n",
    "        print('*' * decrement_variable)\n",
    "        decrement_variable = decrement_variable - 1\n",
    "    else:\n",
    "        print('*' * i)\n",
    "    "
   ]
  },
  {
   "cell_type": "code",
   "execution_count": 13,
   "id": "ca84adc8",
   "metadata": {},
   "outputs": [
    {
     "data": {
      "text/plain": [
       "range(0, 11)"
      ]
     },
     "execution_count": 13,
     "metadata": {},
     "output_type": "execute_result"
    }
   ],
   "source": [
    "range(0, number_of_rows + 1)"
   ]
  },
  {
   "cell_type": "markdown",
   "id": "cc6fb938",
   "metadata": {},
   "source": [
    "# Code2"
   ]
  },
  {
   "cell_type": "markdown",
   "id": "0f032e22",
   "metadata": {},
   "source": [
    "Write a Python program to reverse a word after accepting the input from the user.\n",
    "\n",
    "Sample Output:\n",
    "    \n",
    "Input word: ineuron\n",
    "\n",
    "Output: norueni"
   ]
  },
  {
   "cell_type": "code",
   "execution_count": 1,
   "id": "4b7a21b2",
   "metadata": {},
   "outputs": [
    {
     "name": "stdout",
     "output_type": "stream",
     "text": [
      "Enter any word: ineuron\n"
     ]
    }
   ],
   "source": [
    "# Input a word\n",
    "\n",
    "input_word = input(\"Enter any word: \")"
   ]
  },
  {
   "cell_type": "code",
   "execution_count": 2,
   "id": "90b80c78",
   "metadata": {},
   "outputs": [],
   "source": [
    "#Reverse the word\n",
    "reverse_word = input_word[::-1]"
   ]
  },
  {
   "cell_type": "code",
   "execution_count": 4,
   "id": "03dec49a",
   "metadata": {},
   "outputs": [
    {
     "name": "stdout",
     "output_type": "stream",
     "text": [
      "norueni\n"
     ]
    }
   ],
   "source": [
    "print(reverse_word)"
   ]
  }
 ],
 "metadata": {
  "kernelspec": {
   "display_name": "Python 3",
   "language": "python",
   "name": "python3"
  },
  "language_info": {
   "codemirror_mode": {
    "name": "ipython",
    "version": 3
   },
   "file_extension": ".py",
   "mimetype": "text/x-python",
   "name": "python",
   "nbconvert_exporter": "python",
   "pygments_lexer": "ipython3",
   "version": "3.8.8"
  }
 },
 "nbformat": 4,
 "nbformat_minor": 5
}
