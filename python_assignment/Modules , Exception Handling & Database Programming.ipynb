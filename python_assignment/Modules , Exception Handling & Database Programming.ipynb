{
 "cells": [
  {
   "cell_type": "markdown",
   "id": "bcb8403c",
   "metadata": {},
   "source": [
    "# 1. Write a function to compute 5/0 and use try/except to catch the exceptions."
   ]
  },
  {
   "cell_type": "code",
   "execution_count": 6,
   "id": "fdb1de53",
   "metadata": {},
   "outputs": [
    {
     "name": "stdout",
     "output_type": "stream",
     "text": [
      "Enter any integer: 0\n",
      "Error :  division by zero\n"
     ]
    }
   ],
   "source": [
    "number_input = int(input(\"Enter any integer: \"))\n",
    "\n",
    "try:\n",
    "    5/number_input\n",
    "except Exception as e:\n",
    "    print(\"Error : \",e)\n",
    "else:\n",
    "    print(\"Result is: \", 5/number_input)"
   ]
  },
  {
   "cell_type": "markdown",
   "id": "6a197fb2",
   "metadata": {},
   "source": [
    "# 2. Implement a Python program to generate all sentences \n",
    " where subject is in [\"Americans\", \"Indians\"] and verb is in [\"Play\", \"watch\"] and the object is in [\"Baseball\",\"cricket\"]."
   ]
  },
  {
   "cell_type": "code",
   "execution_count": 8,
   "id": "28bb42a0",
   "metadata": {},
   "outputs": [],
   "source": [
    "#Initialize\n",
    "subject = [\"Americans\", \"Indians\"]\n",
    "verb = [\"Play\", \"watch\"]\n",
    "object = [\"Baseball\", \"cricket\"]"
   ]
  },
  {
   "cell_type": "code",
   "execution_count": 10,
   "id": "a7a7c56a",
   "metadata": {},
   "outputs": [
    {
     "name": "stdout",
     "output_type": "stream",
     "text": [
      "Americans Play Baseball\n",
      "Americans Play cricket\n",
      "Americans watch Baseball\n",
      "Americans watch cricket\n",
      "Indians Play Baseball\n",
      "Indians Play cricket\n",
      "Indians watch Baseball\n",
      "Indians watch cricket\n"
     ]
    }
   ],
   "source": [
    "for i in subject:\n",
    "    for j in verb:\n",
    "        for k in object:\n",
    "            print(f\"{i} {j} {k}\") "
   ]
  },
  {
   "cell_type": "code",
   "execution_count": 12,
   "id": "82266559",
   "metadata": {},
   "outputs": [
    {
     "data": {
      "text/plain": [
       "['Americans Play Baseball',\n",
       " 'Americans Play cricket',\n",
       " 'Americans watch Baseball',\n",
       " 'Americans watch cricket',\n",
       " 'Indians Play Baseball',\n",
       " 'Indians Play cricket',\n",
       " 'Indians watch Baseball',\n",
       " 'Indians watch cricket']"
      ]
     },
     "execution_count": 12,
     "metadata": {},
     "output_type": "execute_result"
    }
   ],
   "source": [
    "#list comprehension way\n",
    "[f\"{i} {j} {k}\" for i in subject for j in verb for k in object]"
   ]
  }
 ],
 "metadata": {
  "kernelspec": {
   "display_name": "Python 3",
   "language": "python",
   "name": "python3"
  },
  "language_info": {
   "codemirror_mode": {
    "name": "ipython",
    "version": 3
   },
   "file_extension": ".py",
   "mimetype": "text/x-python",
   "name": "python",
   "nbconvert_exporter": "python",
   "pygments_lexer": "ipython3",
   "version": "3.8.8"
  }
 },
 "nbformat": 4,
 "nbformat_minor": 5
}
